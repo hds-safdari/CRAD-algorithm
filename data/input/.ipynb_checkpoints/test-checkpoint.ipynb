{
 "cells": [
  {
   "cell_type": "code",
   "execution_count": 3,
   "metadata": {},
   "outputs": [
    {
     "name": "stdout",
     "output_type": "stream",
     "text": [
      "            iris_0    iris_1    iris_2    iris_3    iris_4    iris_5  \\\n",
      "iris_0    1.000000  0.995999  0.999974  0.998168  0.999347  0.999586   \n",
      "iris_1    0.995999  1.000000  0.996607  0.997397  0.992233  0.993592   \n",
      "iris_2    0.999974  0.996607  1.000000  0.998333  0.999061  0.999377   \n",
      "iris_3    0.998168  0.997397  0.998333  1.000000  0.996719  0.997833   \n",
      "iris_4    0.999347  0.992233  0.999061  0.996719  1.000000  0.999883   \n",
      "...            ...       ...       ...       ...       ...       ...   \n",
      "iris_145  0.646865  0.705879  0.651305  0.686380  0.625491  0.637136   \n",
      "iris_146  0.605998  0.667114  0.610553  0.647851  0.584183  0.596356   \n",
      "iris_147  0.653473  0.708983  0.657556  0.694538  0.634029  0.645719   \n",
      "iris_148  0.633917  0.686257  0.637631  0.677737  0.616536  0.628487   \n",
      "iris_149  0.633158  0.684835  0.636806  0.677225  0.616138  0.628088   \n",
      "\n",
      "            iris_6    iris_7    iris_8    iris_9  ...  iris_140  iris_141  \\\n",
      "iris_0    0.998811  0.999538  0.998077  0.996552  ...  0.597825  0.685581   \n",
      "iris_1    0.990721  0.997118  0.998546  0.999033  ...  0.657750  0.742643   \n",
      "iris_2    0.998438  0.999605  0.998356  0.996986  ...  0.602231  0.689931   \n",
      "iris_3    0.996139  0.999546  0.999833  0.999307  ...  0.641080  0.722377   \n",
      "iris_4    0.999914  0.998503  0.996031  0.993761  ...  0.576858  0.664510   \n",
      "...            ...       ...       ...       ...  ...       ...       ...   \n",
      "iris_145  0.619952  0.666813  0.692027  0.707759  ...  0.996370  0.998265   \n",
      "iris_146  0.578648  0.627102  0.653442  0.669840  ...  0.999123  0.993504   \n",
      "iris_147  0.629353  0.674239  0.698921  0.714003  ...  0.997317  0.994245   \n",
      "iris_148  0.612866  0.656100  0.680633  0.695249  ...  0.993087  0.980296   \n",
      "iris_149  0.612627  0.655472  0.679892  0.694382  ...  0.991617  0.977818   \n",
      "\n",
      "          iris_142  iris_143  iris_144  iris_145  iris_146  iris_147  \\\n",
      "iris_0    0.574649  0.584668  0.603048  0.646865  0.605998  0.653473   \n",
      "iris_1    0.632574  0.642756  0.661387  0.705879  0.667114  0.708983   \n",
      "iris_2    0.578798  0.588854  0.607300  0.651305  0.610553  0.657556   \n",
      "iris_3    0.620453  0.629754  0.646729  0.686380  0.647851  0.694538   \n",
      "iris_4    0.555166  0.564947  0.582896  0.625491  0.584183  0.634029   \n",
      "...            ...       ...       ...       ...       ...       ...   \n",
      "iris_145  0.987727  0.990527  0.994838  1.000000  0.998465  0.997358   \n",
      "iris_146  0.993021  0.994971  0.997667  0.998465  1.000000  0.996569   \n",
      "iris_147  0.993642  0.995438  0.997842  0.997358  0.996569  1.000000   \n",
      "iris_148  0.996437  0.996619  0.995967  0.986717  0.988469  0.995708   \n",
      "iris_149  0.995890  0.995877  0.994857  0.984538  0.986481  0.994460   \n",
      "\n",
      "          iris_148  iris_149  \n",
      "iris_0    0.633917  0.633158  \n",
      "iris_1    0.686257  0.684835  \n",
      "iris_2    0.637631  0.636806  \n",
      "iris_3    0.677737  0.677225  \n",
      "iris_4    0.616536  0.616138  \n",
      "...            ...       ...  \n",
      "iris_145  0.986717  0.984538  \n",
      "iris_146  0.988469  0.986481  \n",
      "iris_147  0.995708  0.994460  \n",
      "iris_148  1.000000  0.999916  \n",
      "iris_149  0.999916  1.000000  \n",
      "\n",
      "[150 rows x 150 columns]\n",
      "CPU times: user 15.2 ms, sys: 76 µs, total: 15.3 ms\n",
      "Wall time: 15.3 ms\n"
     ]
    },
    {
     "data": {
      "text/plain": [
       "iris_0    iris_0      1.000000\n",
       "          iris_1      0.995999\n",
       "          iris_2      0.999974\n",
       "          iris_3      0.998168\n",
       "          iris_4      0.999347\n",
       "                        ...   \n",
       "iris_147  iris_148    0.995708\n",
       "          iris_149    0.994460\n",
       "iris_148  iris_148    1.000000\n",
       "          iris_149    0.999916\n",
       "iris_149  iris_149    1.000000\n",
       "Length: 11325, dtype: float64"
      ]
     },
     "execution_count": 3,
     "metadata": {},
     "output_type": "execute_result"
    }
   ],
   "source": [
    "import pandas as pd\n",
    "import networkx as nx\n",
    "\n",
    "# Load iris data\n",
    "X_iris = pd.read_csv(\"https://pastebin.com/raw/dR59vTD4\", sep=\"\\t\", index_col=0)\n",
    "\n",
    "# Create correlation network\n",
    "df_corr = X_iris.T.corr()\n",
    "\n",
    "# Create graph from correlation network\n",
    "graph_iris = nx.from_pandas_adjacency(df_corr, create_using=nx.Graph)\n",
    "\n",
    "# Get edge weights\n",
    "%time edge_weights = pd.Series({tuple(edge_data[:-1]):edge_data[-1][\"weight\"] for edge_data in graph_iris.edges(data=True)})\n",
    "edge_weights\n"
   ]
  },
  {
   "cell_type": "code",
   "execution_count": null,
   "metadata": {},
   "outputs": [],
   "source": []
  }
 ],
 "metadata": {
  "kernelspec": {
   "display_name": "Python 3",
   "language": "python",
   "name": "python3"
  },
  "language_info": {
   "codemirror_mode": {
    "name": "ipython",
    "version": 3
   },
   "file_extension": ".py",
   "mimetype": "text/x-python",
   "name": "python",
   "nbconvert_exporter": "python",
   "pygments_lexer": "ipython3",
   "version": "3.7.4"
  }
 },
 "nbformat": 4,
 "nbformat_minor": 2
}
